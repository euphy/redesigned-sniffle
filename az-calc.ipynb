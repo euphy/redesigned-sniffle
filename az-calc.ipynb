{
 "metadata": {
  "language_info": {
   "codemirror_mode": {
    "name": "ipython",
    "version": 3
   },
   "file_extension": ".py",
   "mimetype": "text/x-python",
   "name": "python",
   "nbconvert_exporter": "python",
   "pygments_lexer": "ipython3",
   "version": "3.8.5"
  },
  "orig_nbformat": 2,
  "kernelspec": {
   "name": "python385jvsc74a57bd0916dbcbb3f70747c44a77c7bcd40155683ae19c65e1c03b4aa3499c5328201f1",
   "display_name": "Python 3.8.5 64-bit"
  },
  "metadata": {
   "interpreter": {
    "hash": "916dbcbb3f70747c44a77c7bcd40155683ae19c65e1c03b4aa3499c5328201f1"
   }
  }
 },
 "nbformat": 4,
 "nbformat_minor": 2,
 "cells": [
  {
   "source": [
    "365 days\n",
    "163 projects\n",
    "2 pods per project\n",
    "26 worker nodes\n",
    "3 AZs\n",
    "\n",
    "Answer the questions\n",
    "--------------------\n",
    "\n",
    "1. When deploying a project, how often does all of it's pods end up on the same AZ?\n",
    "2. When destroying an AZ, how many services lose:\n",
    "    *  Both pods\n",
    "    *  One pod\n",
    "    *  No pods"
   ],
   "cell_type": "markdown",
   "metadata": {}
  },
  {
   "cell_type": "code",
   "execution_count": 217,
   "metadata": {},
   "outputs": [],
   "source": []
  },
  {
   "cell_type": "code",
   "execution_count": 1,
   "metadata": {
    "tags": []
   },
   "outputs": [],
   "source": [
    "from random import randrange\n",
    "# Create pods model\n",
    "\n",
    "def create_pods_for_projects(projects_count, pods_per_project):\n",
    "    pods = []\n",
    "    count = 0\n",
    "    for project_id in range(0, projects_count):\n",
    "        for pod_id in range(0, pods_per_project):\n",
    "            pod = {\"id\": count, \"name\": pod_id, \"project\": project_id}\n",
    "            pods.append(pod)\n",
    "            count += 1\n",
    "    # print(f\"Pod count: {len(pods)}\")\n",
    "    return pods\n",
    "\n",
    "\n",
    "def distribute_pods_to_nodes(pods, nodes_count):\n",
    "    # Assign each pod a node - round robin to simulate anti-affinity\n",
    "    for i in range(0, len(pods)):\n",
    "        pod = pods[i]\n",
    "        pod[\"node\"] = i % nodes_count\n",
    "    return pods\n",
    "    \n",
    "\n",
    "def distribute_nodes_to_azs(nodes_count, azs_count):\n",
    "    # Now assign each node an AZ\n",
    "    nodes = dict()\n",
    "\n",
    "    for i in range(0, nodes_count):\n",
    "\n",
    "        az_for_node = randrange(0, azs_count)\n",
    "        # print (az_for_node)\n",
    "        \n",
    "        # az_for_node = i % azs_count # round robin\n",
    "        nodes[i] = {\"az\": az_for_node}\n",
    "    return nodes\n",
    "\n",
    "# print(distribute_nodes_to_azs(24, 3))\n"
   ]
  },
  {
   "source": [
    "# When deploying a project, how often does all of it's pods end up on the same AZ?"
   ],
   "cell_type": "markdown",
   "metadata": {}
  },
  {
   "cell_type": "code",
   "execution_count": 17,
   "metadata": {
    "tags": []
   },
   "outputs": [
    {
     "output_type": "stream",
     "name": "stdout",
     "text": [
      "Over 10000 runs, on average 18.0 of 163 projects ended up with all pods in the same AZ. That's 11.1% or 1 in 9.\n"
     ]
    }
   ],
   "source": [
    "\n",
    "def run_experiment(projects_count, pods_per_project, nodes_count, azs_count):\n",
    "    pods = create_pods_for_projects(projects_count=projects_count, pods_per_project=pods_per_project)\n",
    "    pods = distribute_pods_to_nodes(pods=pods, nodes_count=nodes_count)\n",
    "    nodes = distribute_nodes_to_azs(nodes_count=nodes_count, azs_count=azs_count)\n",
    "    return pods, nodes\n",
    "\n",
    "def describe_distribution(pods, nodes, azs_count, pods_per_project):\n",
    "    result = dict()\n",
    "\n",
    "    for pod in pods:\n",
    "        # which az is this pod's node in?\n",
    "        az = nodes[pod['node']]['az']\n",
    "        pod[\"az\"] = az\n",
    "        # print(f\"Pod {pod['id']} is in project {pod['project']}, node {pod['node']} and AZ {pod['az']}\")\n",
    "        \n",
    "    # projects with two pods in the same AZ\n",
    "    for az in range(0, azs_count):\n",
    "        # find all pods in that AZ\n",
    "        pods_in_az = list()\n",
    "        projects_in_az = dict()\n",
    "        for pod in pods:\n",
    "            if pod['az'] == az:\n",
    "                pods_in_az.append(pod)\n",
    "                c = projects_in_az.get(pod['project'], 0)\n",
    "                c += 1\n",
    "                projects_in_az[pod['project']] = c\n",
    "\n",
    "        # print(f\"AZ {az} has {len(pods_in_az)} pods and {len(projects_in_az)} projects in it.\")\n",
    "        dangerous_projects = list()\n",
    "        for k, v in projects_in_az.items():\n",
    "            percent = (v / pods_per_project) * 100\n",
    "            if percent == 100:\n",
    "                # print(f\"Project {k} has {percent}% of it's pods in this AZ\")\n",
    "                dangerous_projects.append(k)\n",
    "        # print(f\"{len(dangerous_projects)} projects with all their pods in this AZ.\")\n",
    "        result[az] = dangerous_projects\n",
    "    \n",
    "    # print(projects_in_az)\n",
    "    # print(pods_in_az)\n",
    "    return result\n",
    "\n",
    "\n",
    "experiments = list()\n",
    "pods_per_project = 2\n",
    "azs_count = 3\n",
    "projects_count = 163\n",
    "for experiment_number in range(0, 10000):\n",
    "    pods, nodes = run_experiment(projects_count=projects_count, pods_per_project=pods_per_project, nodes_count=26, azs_count=azs_count)\n",
    "    result = describe_distribution(pods, nodes, azs_count=azs_count, pods_per_project=pods_per_project)\n",
    "    total_at_risk = 0\n",
    "    for az, v in result.items():\n",
    "        total_at_risk += len(v)\n",
    "    mean_at_risk = total_at_risk/azs_count\n",
    "    result[\"mean\"] = mean_at_risk\n",
    "    experiments.append(result)\n",
    "\n",
    "total = 0\n",
    "for ex_no in range(0, len(experiments)):\n",
    "    ex = experiments[ex_no]\n",
    "    # print(f\"{ex_no}. \\t{len(ex[0])}\\t{len(ex[1])}\\t{len(ex[2])}\\t -- {ex['mean']:.1f}\")\n",
    "    total = total + ex['mean']\n",
    "\n",
    "mean = total/len(experiments)\n",
    "print(f\"Over {len(experiments)} runs, on average {mean:0.1f} of {projects_count} projects ended up with all pods in the same AZ. That's {mean/projects_count*100:.1f}% or 1 in {100/(mean/projects_count*100):.0f}.\")\n",
    "\n"
   ]
  },
  {
   "cell_type": "code",
   "execution_count": null,
   "metadata": {},
   "outputs": [],
   "source": []
  },
  {
   "cell_type": "code",
   "execution_count": null,
   "metadata": {},
   "outputs": [],
   "source": []
  }
 ]
}